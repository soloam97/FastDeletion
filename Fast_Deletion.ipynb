{
 "cells": [
  {
   "cell_type": "markdown",
   "id": "2156a809",
   "metadata": {},
   "source": [
    "TODO  removeLinks, setLinks\n",
    "атрибуты для формального понятия: Destructor, \n",
    "метод для формального понятия remove_object(g)"
   ]
  },
  {
   "cell_type": "markdown",
   "id": "c661b5c8",
   "metadata": {},
   "source": [
    "Данная работа была сделана с помощью библиоеки fcapy (автор: Егор Дудырев)\n",
    "ссылка на репозиторий: https://github.com/EgorDudyrev"
   ]
  },
  {
   "cell_type": "code",
   "execution_count": null,
   "id": "810ac6a1",
   "metadata": {},
   "outputs": [],
   "source": [
    "!pip install -U -q fcapy==0.1.3"
   ]
  },
  {
   "cell_type": "code",
   "execution_count": 322,
   "id": "85c8a3fb",
   "metadata": {},
   "outputs": [],
   "source": [
    "global g\n",
    "global L"
   ]
  },
  {
   "cell_type": "markdown",
   "id": "f6994521",
   "metadata": {},
   "source": [
    "### Функция isOld(c,g) проверяет, является ли понятие старым"
   ]
  },
  {
   "cell_type": "code",
   "execution_count": 323,
   "id": "d766e3ea",
   "metadata": {},
   "outputs": [],
   "source": [
    "def isOld(c, g):\n",
    "    \n",
    "    if g in L[c].extent:\n",
    "        return False\n",
    "    else:\n",
    "        return True"
   ]
  },
  {
   "cell_type": "markdown",
   "id": "efede5e9",
   "metadata": {},
   "source": [
    "### Процедура ConfirmDeletion(c) проверяет, является ли формальное понятия \"c\" удаленным или нет"
   ]
  },
  {
   "cell_type": "code",
   "execution_count": 324,
   "id": "dc20019b",
   "metadata": {},
   "outputs": [],
   "source": [
    "# на входе в процедуру объект g уже удален из L\n",
    "def ConfirmDeletion(c):\n",
    "    oldChildren = 0\n",
    "    # находим старое понятие среди нижних сосдедей c и определяем деструктор\n",
    "    for child in L.subconcepts_dict[c]:\n",
    "        if isOld(child, g) == True:\n",
    "            if oldChildren == 0:\n",
    "                destructor = child\n",
    "                oldChildren = 1\n",
    "            else:\n",
    "                oldChildren = 2\n",
    "                break\n",
    "                \n",
    "    # проверка на однозначное соответствие между деструктором и удаленным понятием\n",
    "    if oldChildren == 1 and destructor.Extent == L[c].Extent:\n",
    "        L[c].Destructor = destructor  \n",
    "        return True\n",
    "    else:\n",
    "        return False"
   ]
  },
  {
   "cell_type": "markdown",
   "id": "c6496db0",
   "metadata": {},
   "source": [
    "### Процедура FastDeletion(L, c) необходим для фиксирования отношения покрытия"
   ]
  },
  {
   "cell_type": "code",
   "execution_count": 325,
   "id": "73ed4c33",
   "metadata": {},
   "outputs": [],
   "source": [
    "# фиксация отношения покрытия\n",
    "def FastDeletion(L, c):\n",
    "    \n",
    "    if ConfirmDeletion(c):  # проверка на удаленное понятие\n",
    "        L[c].IsDeleted = True  # помечается удаленным\n",
    "        removeLinks(L[c], L[c].Destructor)  # Удаляем связи между понятием c и его деструктором\n",
    "        L.remove_concept(c)  # Удаляем понятие c из решетки L\n",
    "        \n",
    "        for parent in L.superconcepts_dict[c]:\n",
    "            if parent.IsDeleted or parent.IsModified:\n",
    "                continue\n",
    "            else:\n",
    "                FastDeletion(L, parent)\n",
    "                \n",
    "        for parent in L.superconcepts_dict[c]:\n",
    "            if parent.IsModified:  # для изменения отношения покрытия проверяем только измененные понятия\n",
    "                removeLinks(parent, L[c])  # Для каждого верхнего соседа c удаляем связи с  понятием c\n",
    "                covered = False\n",
    "                \n",
    "                for child in L.subconcepts_dict[parent]:  # проверяем нужны ли связи\n",
    "                    if isOld(child, g) and child.intent.__le__(L[c].Destructor.intent):  # __le__ - является подмножеством\n",
    "                        covered = True\n",
    "                        break\n",
    "                        \n",
    "                if covered == False:\n",
    "                    setLinks(parent, c.Destructor)  # Set links between parent and c.Destructor\n",
    "                \n",
    "    else:\n",
    "        L[c].IsModified = True  # помечается как измененное\n",
    "        for parent in L.superconcepts_dict[c]:  # все более общие являются измененными\n",
    "            parent.IsModified = True"
   ]
  },
  {
   "cell_type": "markdown",
   "id": "42e60d25",
   "metadata": {},
   "source": [
    "### Процедура DeleteInstance(L, g) удаляет объект g из решетки L и изменяет понятия формальные понятия решетки."
   ]
  },
  {
   "cell_type": "code",
   "execution_count": 341,
   "id": "b7472a34",
   "metadata": {},
   "outputs": [],
   "source": [
    "global affectedConcepts\n",
    "def DeleteInstance(L, g):\n",
    "    minConcept = L[max(L.trace_context(K)[-1][g])]  # = ({g}↑↓, {g}↑) менее общее понятие, которое содержит удаляемый объект g\n",
    "    affectedConcepts.append(minConcept)  # Добавляем minConcept в список посещенных понятий affectedConcepts\n",
    "    minConcept.Affected = True  # Помечаем minConcept как посещенное понятие\n",
    "    while affectedConcepts != 0:\n",
    "        c = affectedConcepts.pop()\n",
    "        L[c].remove_object(g)  # Удаляем объект g из объема понятия L[c].Extent\n",
    "        \n",
    "        for parent in L.superconcepts_dict[c]:\n",
    "            if parent.Affected == False:  # если верхний сосед не обработан\n",
    "                affectedConcepts.append(parent)  # Добавляем верхнего соседа в список посещенных понятий\n",
    "                parent.Affected = True # Помечаем верзнего соседа как посещенное понятие\n",
    "                \n",
    "    FastDeletion(L, minConcept)  # удаление соотв. понятий и изменения отношения покрытия"
   ]
  },
  {
   "cell_type": "markdown",
   "id": "d130ad58",
   "metadata": {},
   "source": [
    "#### Формируем формальный контекст K, с которым будем работать\n",
    "#### Загружаем файл test c расширением .csv"
   ]
  },
  {
   "cell_type": "code",
   "execution_count": 327,
   "id": "111be29f",
   "metadata": {},
   "outputs": [],
   "source": [
    "from fcapy.context import FormalContext\n",
    "K = FormalContext.read_csv('test.csv')"
   ]
  },
  {
   "cell_type": "markdown",
   "id": "8dcdf0aa",
   "metadata": {},
   "source": [
    "##### Выводим формальный контекст"
   ]
  },
  {
   "cell_type": "code",
   "execution_count": 328,
   "id": "c8013683",
   "metadata": {},
   "outputs": [
    {
     "name": "stdout",
     "output_type": "stream",
     "text": [
      "FormalContext (5 objects, 5 attributes, 15 connections)\n",
      " |a|b|c|d|e|\n",
      "1|X|X|X|X|X|\n",
      "2|X| |X| |X|\n",
      "3| | | |X| |\n",
      "4| |X| | |X|\n",
      "5|X|X|X|X| |\n"
     ]
    }
   ],
   "source": [
    "print(K)"
   ]
  },
  {
   "cell_type": "markdown",
   "id": "dadfba56",
   "metadata": {},
   "source": [
    "#### Формируем решетку понятий на основе формального контекста K"
   ]
  },
  {
   "cell_type": "code",
   "execution_count": 329,
   "id": "c6ade44b",
   "metadata": {},
   "outputs": [],
   "source": [
    "from fcapy.lattice import ConceptLattice\n",
    "L = ConceptLattice.from_context(K)"
   ]
  },
  {
   "cell_type": "code",
   "execution_count": 330,
   "id": "a0177034",
   "metadata": {},
   "outputs": [
    {
     "name": "stdout",
     "output_type": "stream",
     "text": [
      "0 ('1', '2', '3', '4', '5') ()\n",
      "1 ('1', '2', '4') ('e',)\n",
      "2 ('1', '2', '5') ('a', 'c')\n",
      "3 ('1', '3', '5') ('d',)\n",
      "4 ('1', '4', '5') ('b',)\n",
      "5 ('1', '2') ('a', 'c', 'e')\n",
      "6 ('1', '4') ('b', 'e')\n",
      "7 ('1', '5') ('a', 'b', 'c', 'd')\n",
      "8 ('1',) ('a', 'b', 'c', 'd', 'e')\n"
     ]
    }
   ],
   "source": [
    "for i in range(len(L)):\n",
    "    c = L[i]\n",
    "    print(i, c.extent, c.intent)"
   ]
  },
  {
   "cell_type": "code",
   "execution_count": 331,
   "id": "80bd7761",
   "metadata": {},
   "outputs": [],
   "source": [
    "affectedConcepts = []"
   ]
  },
  {
   "cell_type": "markdown",
   "id": "97a2bc05",
   "metadata": {},
   "source": [
    "Для дальнейшей работы нужно реализовать следующие методы:\n",
    "<ol>\n",
    "<li><b>remove_object(object)</b> для класса FormalContext, который удаляет из объема формального понятия (c.extent) объект object</li>\n",
    "<li><b>removeLinks(c1, c2)</b> для удаление связей между формальными понятиями c1 и c2</li>\n",
    "<li><b>setLinks(c1, c2)</b> для установки связей между формальными понятиями c1 и c2</li>\n",
    "</ol>"
   ]
  }
 ],
 "metadata": {
  "kernelspec": {
   "display_name": "Python 3 (ipykernel)",
   "language": "python",
   "name": "python3"
  },
  "language_info": {
   "codemirror_mode": {
    "name": "ipython",
    "version": 3
   },
   "file_extension": ".py",
   "mimetype": "text/x-python",
   "name": "python",
   "nbconvert_exporter": "python",
   "pygments_lexer": "ipython3",
   "version": "3.8.10"
  }
 },
 "nbformat": 4,
 "nbformat_minor": 5
}
